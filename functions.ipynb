{
  "nbformat": 4,
  "nbformat_minor": 0,
  "metadata": {
    "colab": {
      "provenance": []
    },
    "kernelspec": {
      "name": "python3",
      "display_name": "Python 3"
    },
    "language_info": {
      "name": "python"
    }
  },
  "cells": [
    {
      "cell_type": "code",
      "execution_count": null,
      "metadata": {
        "id": "LmgT_19o2IOe"
      },
      "outputs": [],
      "source": [
        "import pickle \n",
        "import numpy as np\n",
        "import pandas as pd\n",
        "import matplotlib.pyplot as plt\n",
        "\n",
        "from sklearn.preprocessing import MinMaxScaler\n",
        "import torch\n",
        "import torch.nn as nn\n",
        "\n",
        "from datetime import datetime"
      ]
    },
    {
      "cell_type": "code",
      "source": [
        "scaler_minmax = MinMaxScaler()"
      ],
      "metadata": {
        "id": "_pssr0EP6kF0"
      },
      "execution_count": null,
      "outputs": []
    },
    {
      "cell_type": "code",
      "source": [
        "def get_data(df, time_step):\n",
        "\n",
        "    X, Y, Date = [], [], []\n",
        "\n",
        "    for i in range(len(df) - time_step - 1):\n",
        "\n",
        "        x = df[i:(i+time_step)]['Price']\n",
        "        X.append(x)\n",
        "        Y.append(df.iloc[i+time_step]['Price'])\n",
        "        Date.append(df.iloc[i+time_step]['Date'].to_pydatetime().strftime('%Y-%m-%d'))\n",
        "\n",
        "    return np.array(X), np.array(Y), np.array(Date)"
      ],
      "metadata": {
        "id": "mwU16LKn4Tbe"
      },
      "execution_count": null,
      "outputs": []
    },
    {
      "cell_type": "code",
      "source": [
        "class LSTMModel(nn.Module):\n",
        "    def __init__(self, input_size, hidden_size, num_layers, output_size):\n",
        "        super().__init__()\n",
        "        self.hidden_size = hidden_size\n",
        "        self.num_layers = num_layers\n",
        "        \n",
        "        self.lstm = nn.LSTM(input_size, hidden_size, num_layers, batch_first=True)\n",
        "        self.fc = nn.Linear(hidden_size, output_size)\n",
        "    \n",
        "    def forward(self, x):\n",
        "        h0 = torch.zeros(self.num_layers, x.shape[0], self.hidden_size)\n",
        "        c0 = torch.zeros(self.num_layers, x.shape[0], self.hidden_size)\n",
        "        \n",
        "        out, (hn, cn) = self.lstm(x, (h0, c0))\n",
        "        out = self.fc(out[:,-1,:])\n",
        "        return out"
      ],
      "metadata": {
        "id": "E8fof6h24Vnc"
      },
      "execution_count": null,
      "outputs": []
    },
    {
      "cell_type": "code",
      "source": [
        "def train(X, y, model, lr, cost_fn, epochs):\n",
        "    \n",
        "    # Define the optimizer    \n",
        "    optimizer = torch.optim.Adam(model.parameters(), lr=lr)\n",
        "\n",
        "    for epoch in range(epochs):\n",
        "\n",
        "        # Training\n",
        "        model.train()\n",
        "            \n",
        "        # Zero the gradients\n",
        "        optimizer.zero_grad()\n",
        "        \n",
        "        # Forward pass\n",
        "        outputs = model(X)\n",
        "\n",
        "        # Compute the loss\n",
        "        loss = cost_fn(outputs, y)\n",
        "\n",
        "        # Backward pass and optimize\n",
        "        loss.backward()\n",
        "        optimizer.step()\n",
        "        \n",
        "        if (epoch+1) % 100 == 0:\n",
        "            print (f'Epoch [{epoch+1}/{epochs}], Loss: {loss.item():.4f}')\n",
        "    \n",
        "    return model"
      ],
      "metadata": {
        "id": "AL_SdcDl4BnK"
      },
      "execution_count": null,
      "outputs": []
    },
    {
      "cell_type": "code",
      "source": [
        "## Ref: https://medium.com/codex/how-to-calculate-bollinger-bands-of-a-stock-with-python-f9f7d1184fc3\n",
        "\n",
        "def get_sma(prices, rate):\n",
        "    return prices.rolling(rate).mean()\n",
        "\n",
        "def get_bollinger_bands(prices, rate=20):\n",
        "    sma = get_sma(prices, rate)\n",
        "    std = prices.rolling(rate).std()\n",
        "    bollinger_up = sma + std * 2 # Calculate top band\n",
        "    bollinger_down = sma - std * 2 # Calculate bottom band\n",
        "    return sma, bollinger_up, bollinger_down"
      ],
      "metadata": {
        "id": "i5iVQmZU4ViY"
      },
      "execution_count": null,
      "outputs": []
    },
    {
      "cell_type": "code",
      "source": [
        "def get_weekly_data(df, time_step):\n",
        "\n",
        "    X, Y, Date = [], [], []\n",
        "\n",
        "    for i in range(time_step, len(df), 5):\n",
        "\n",
        "        x = df[i-time_step : i]['Price']\n",
        "        X.append(x)\n",
        "        Y.append(df[i:i+5]['Price'])\n",
        "        Date.append(df[i:i+5]['Date'].dt.strftime('%Y-%m-%d'))\n",
        "\n",
        "    return np.array(X), np.array(Y), np.array(Date)"
      ],
      "metadata": {
        "id": "jblBa9-e4Pk6"
      },
      "execution_count": null,
      "outputs": []
    },
    {
      "cell_type": "code",
      "source": [
        "def get_monthly_data(df, time_step, maxdays):\n",
        "\n",
        "    X, Y, Date = [], [], []\n",
        "\n",
        "    for i in range(time_step, len(df), maxdays):\n",
        "\n",
        "        x = df[i-time_step : i]['Price']\n",
        "        X.append(x)\n",
        "        Y.append(df[i:i+maxdays]['Price'])\n",
        "        Date.append(df[i:i+maxdays]['Date'].dt.strftime('%Y-%m-%d'))\n",
        "\n",
        "    return np.array(X), np.array(Y), np.array(Date)"
      ],
      "metadata": {
        "id": "nG8OivSB37dh"
      },
      "execution_count": null,
      "outputs": []
    },
    {
      "cell_type": "code",
      "source": [
        "def numpy2tensor(x,y, daily=True):\n",
        "  x = torch.from_numpy(x).type(torch.Tensor).view(x.shape[0], x.shape[1], 1)\n",
        "  if daily==True:\n",
        "    y = torch.from_numpy(y).type(torch.Tensor).view(y.shape[0], 1)\n",
        "  else:\n",
        "    y = torch.from_numpy(y).type(torch.Tensor)\n",
        "  return x,y"
      ],
      "metadata": {
        "id": "vRWDzLIa3k9L"
      },
      "execution_count": null,
      "outputs": []
    },
    {
      "cell_type": "code",
      "source": [
        "def scale_back(x, max, min):\n",
        "  return (x * (max - min)) + min"
      ],
      "metadata": {
        "id": "JphNV-mY4Y-g"
      },
      "execution_count": null,
      "outputs": []
    }
  ]
}