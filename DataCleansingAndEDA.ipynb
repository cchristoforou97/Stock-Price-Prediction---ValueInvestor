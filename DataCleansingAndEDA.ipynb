{
  "nbformat": 4,
  "nbformat_minor": 0,
  "metadata": {
    "colab": {
      "provenance": []
    },
    "kernelspec": {
      "name": "python3",
      "display_name": "Python 3"
    },
    "language_info": {
      "name": "python"
    }
  },
  "cells": [
    {
      "cell_type": "code",
      "execution_count": null,
      "metadata": {
        "colab": {
          "base_uri": "https://localhost:8080/"
        },
        "id": "CJySS0LScP1h",
        "outputId": "f54fb655-5480-46fa-d070-35c9ebd95f5b"
      },
      "outputs": [
        {
          "output_type": "stream",
          "name": "stdout",
          "text": [
            "Mounted at /content/drive\n"
          ]
        }
      ],
      "source": [
        "import os\n",
        "from google.colab import drive\n",
        "\n",
        "drive.mount('/content/drive')\n",
        "os.chdir('drive/My Drive/Colab Notebooks/AI RESIDENCY/P5')"
      ]
    },
    {
      "cell_type": "markdown",
      "source": [
        "Import the necessary libraries."
      ],
      "metadata": {
        "id": "TODM3C_r_Hx2"
      }
    },
    {
      "cell_type": "code",
      "source": [
        "## Data\n",
        "import numpy as np\n",
        "import pandas as pd\n",
        "\n",
        "## Visualization\n",
        "import matplotlib.pyplot as plt\n",
        "import plotly.graph_objects as go\n",
        "\n",
        "import pickle"
      ],
      "metadata": {
        "id": "l11xlg2MdKD4"
      },
      "execution_count": null,
      "outputs": []
    },
    {
      "cell_type": "markdown",
      "source": [
        "Load the data."
      ],
      "metadata": {
        "id": "Mn7zcOCw_Jp2"
      }
    },
    {
      "cell_type": "code",
      "source": [
        "df_russia = pd.read_csv('Russia - Sberbank Rossii PAO (SBER).csv')\n",
        "df_turkey = pd.read_csv('Turkey - Koc Holding AS (KCHOL).csv')\n",
        "df_egypt = pd.read_csv('Egypt - Medinet Nasr Housing (MNHD).csv')\n",
        "df_brazil = pd.read_csv('Brazil - Minerva SA_Brazil (BEEF3).csv')\n",
        "df_argentina = pd.read_csv('Argentina - Pampa Energia SA (PAMP).csv')\n",
        "df_colombia = pd.read_csv('Colombia - Cementos Argos SA (CCB).csv')\n",
        "df_south_africa = pd.read_csv('South Africa - Impala Platinum Holdings Ltd (IMPJ).csv')\n",
        "df_south_korea = pd.read_csv('South Korea - Dongkuk Steel Mill Co Ltd (001230).csv')"
      ],
      "metadata": {
        "id": "39yIrbyLcRkZ"
      },
      "execution_count": null,
      "outputs": []
    },
    {
      "cell_type": "code",
      "source": [
        "df_russia.head()"
      ],
      "metadata": {
        "id": "LQ38ysQ-cRhq"
      },
      "execution_count": null,
      "outputs": []
    },
    {
      "cell_type": "code",
      "source": [
        "df_russia.info()"
      ],
      "metadata": {
        "id": "oY5XL8g4XZA5"
      },
      "execution_count": null,
      "outputs": []
    },
    {
      "cell_type": "code",
      "source": [
        "def clean_df(df):\n",
        "    ## drop NAs and last row (last row contains data that make no sence)\n",
        "    df.dropna(inplace=True)\n",
        "    df.drop(df.shape[0]-1, axis=0, inplace=True)\n",
        "\n",
        "    ## convert the type to float\n",
        "    for col in ['Price', 'Open', 'High', 'Low']:\n",
        "        df[col] = df[col].astype(float)  \n",
        "    \n",
        "    # Parse the dates using pd.to_datetime()\n",
        "    df['Date'] = pd.to_datetime(df['Date'])\n",
        "\n",
        "    # Convert the date column to a string column with the format 'YYYY-MM-DD'\n",
        "    df['Date'] = df['Date'].dt.strftime('%Y-%m-%d')\n",
        "\n",
        "    # Convert the date column to a datetime column\n",
        "    df['Date'] = pd.to_datetime(df['Date'])\n",
        "    # Add a quarter column\n",
        "    df['quarter'] = df['Date'].dt.quarter\n",
        "    # Add a month column\n",
        "    df['month'] = df['Date'].dt.month\n",
        "    # Add a week column\n",
        "    df['week'] = df['Date'].dt.isocalendar().week\n",
        "\n",
        "    ## sort by date\n",
        "    df.sort_values(by='Date', ascending=True, ignore_index=True, inplace=True)\n",
        "    return df"
      ],
      "metadata": {
        "id": "9gVxfRf24xP-"
      },
      "execution_count": null,
      "outputs": []
    },
    {
      "cell_type": "code",
      "source": [
        "df_russia = clean_df(df_russia)\n",
        "df_turkey = clean_df(df_turkey)\n",
        "df_egypt = clean_df(df_egypt)\n",
        "df_brazil = clean_df(df_brazil)\n",
        "df_argentina = clean_df(df_argentina)"
      ],
      "metadata": {
        "id": "KKz_ZfrA42ZO"
      },
      "execution_count": null,
      "outputs": []
    },
    {
      "cell_type": "code",
      "source": [
        "## remove ',' \n",
        "for col in ['Price', 'Open', 'High', 'Low']:\n",
        "  df_colombia[col] = df_colombia[col].str.replace(',', '')\n",
        "  df_south_africa[col] = df_south_africa[col].str.replace(',', '')\n",
        "  df_south_korea[col] = df_south_korea[col].str.replace(',', '')\n",
        "\n",
        "df_colombia = clean_df(df_colombia)\n",
        "df_south_africa = clean_df(df_south_africa)\n",
        "df_south_korea = clean_df(df_south_korea)"
      ],
      "metadata": {
        "id": "wFIFhYFi42Wm"
      },
      "execution_count": null,
      "outputs": []
    },
    {
      "cell_type": "code",
      "source": [
        "def check_vol_col(df):\n",
        "    # Check if any entries in the 'volume' column do NOT end with 'K' or 'M'\n",
        "    mask = df['Vol.'].notnull() & (~df['Vol.'].str.contains('K$|M$'))\n",
        "\n",
        "    return df[mask].shape[0]"
      ],
      "metadata": {
        "id": "ho1acvz_XDKQ"
      },
      "execution_count": null,
      "outputs": []
    },
    {
      "cell_type": "code",
      "source": [
        "for df in [df_russia, df_turkey, df_egypt, df_brazil, \n",
        "           df_argentina, df_colombia, df_south_africa, df_south_korea]:\n",
        "           print(f'There are {check_vol_col(df)} entries in the Vol. column that do NOT end with K or M.')"
      ],
      "metadata": {
        "id": "Cd2VjKmtZZwd"
      },
      "execution_count": null,
      "outputs": []
    },
    {
      "cell_type": "code",
      "source": [
        "#south_korea_median = str(df_south_korea['Vol.'].median())\n",
        "# df_south_korea.loc[df_south_korea['Vol.'] == '-', 'Vol.'] = south_korea_median"
      ],
      "metadata": {
        "id": "61M-T_5YrqTc"
      },
      "execution_count": null,
      "outputs": []
    },
    {
      "cell_type": "code",
      "source": [
        "df_south_korea.loc[df_south_korea['Vol.'] == '-', 'Vol.'] = '0'"
      ],
      "metadata": {
        "id": "0fJit8SW6C2H"
      },
      "execution_count": null,
      "outputs": []
    },
    {
      "cell_type": "code",
      "source": [
        "def clean_vol(s):\n",
        "  if s[-1] == 'K':\n",
        "    new_s = float(s[:-1]) * 1000\n",
        "  elif s[-1] == 'M':\n",
        "    new_s = float(s[:-1]) * 1000000\n",
        "  elif s == '0':\n",
        "    new_s = float(0)\n",
        "  elif s == south_korea_median:\n",
        "    new_s = float(south_korea_median)\n",
        "  return new_s"
      ],
      "metadata": {
        "id": "UlLjTgHX5yoG"
      },
      "execution_count": null,
      "outputs": []
    },
    {
      "cell_type": "code",
      "source": [
        "df_russia['Vol.'] = df_russia['Vol.'].apply(clean_vol)\n",
        "df_turkey['Vol.'] = df_turkey['Vol.'].apply(clean_vol)\n",
        "df_egypt['Vol.'] = df_egypt['Vol.'].apply(clean_vol)\n",
        "df_brazil['Vol.'] = df_brazil['Vol.'].apply(clean_vol)\n",
        "df_argentina['Vol.'] = df_argentina['Vol.'].apply(clean_vol)\n",
        "df_colombia['Vol.'] = df_colombia['Vol.'].apply(clean_vol)\n",
        "df_south_africa['Vol.'] = df_south_africa['Vol.'].apply(clean_vol)\n",
        "df_south_korea['Vol.'] = df_south_korea['Vol.'].apply(clean_vol)"
      ],
      "metadata": {
        "id": "4D-PVwg-6s_k"
      },
      "execution_count": null,
      "outputs": []
    },
    {
      "cell_type": "code",
      "source": [
        "def split(df):\n",
        "  test_data = df[df['Date'] > '2020-12-31']\n",
        "  train_data = df[df['Date'] <= '2020-12-31']\n",
        "\n",
        "  return train_data, test_data\n",
        "\n",
        "train_data_russia , test_data_russia = split(df_russia)\n",
        "train_data_turkey , test_data_turkey = split(df_turkey)\n",
        "train_data_egypt , test_data_egypt = split(df_egypt)\n",
        "train_data_brazil , test_data_brazil = split(df_brazil)\n",
        "train_data_argentina , test_data_argentina = split(df_argentina)\n",
        "train_data_colombia , test_data_colombia = split(df_colombia)\n",
        "train_data_south_africa , test_data_south_africa = split(df_south_africa)\n",
        "train_data_south_korea , test_data_south_korea = split(df_south_korea)"
      ],
      "metadata": {
        "id": "3EEXzJhEqM-U"
      },
      "execution_count": null,
      "outputs": []
    },
    {
      "cell_type": "code",
      "source": [
        "# ## Russia\n",
        "# with open('train_data_russia.pkl', 'wb') as f:\n",
        "#     pickle.dump(train_data_russia, f)\n",
        "\n",
        "# with open('test_data_russia.pkl', 'wb') as f:\n",
        "#     pickle.dump(test_data_russia, f)\n",
        "\n",
        "# ## Turkey\n",
        "# with open('train_data_turkey.pkl', 'wb') as f:\n",
        "#     pickle.dump(train_data_turkey, f)\n",
        "\n",
        "# with open('test_data_turkey.pkl', 'wb') as f:\n",
        "#     pickle.dump(test_data_turkey, f)\n",
        "\n",
        "# ## Egypt\n",
        "# with open('train_data_egypt.pkl', 'wb') as f:\n",
        "#     pickle.dump(train_data_egypt, f)\n",
        "\n",
        "# with open('test_data_egypt.pkl', 'wb') as f:\n",
        "#     pickle.dump(test_data_egypt, f)\n",
        "\n",
        "# ## Brazil\n",
        "# with open('train_data_brazil.pkl', 'wb') as f:\n",
        "#     pickle.dump(train_data_brazil, f)\n",
        "\n",
        "# with open('test_data_brazil.pkl', 'wb') as f:\n",
        "#     pickle.dump(test_data_brazil, f)\n",
        "\n",
        "# ## Argentina\n",
        "# with open('train_data_argentina.pkl', 'wb') as f:\n",
        "#     pickle.dump(train_data_argentina, f)\n",
        "\n",
        "# with open('test_data_argentina.pkl', 'wb') as f:\n",
        "#     pickle.dump(test_data_argentina, f)\n",
        "\n",
        "# ## Colombia\n",
        "# with open('train_data_colombia.pkl', 'wb') as f:\n",
        "#     pickle.dump(train_data_colombia, f)\n",
        "\n",
        "# with open('test_data_colombia.pkl', 'wb') as f:\n",
        "#     pickle.dump(test_data_colombia, f)\n",
        "\n",
        "# ## South Africa\n",
        "# with open('train_data_south_africa.pkl', 'wb') as f:\n",
        "#     pickle.dump(train_data_south_africa, f)\n",
        "\n",
        "# with open('test_data_south_africa.pkl', 'wb') as f:\n",
        "#     pickle.dump(test_data_south_africa, f)\n",
        "\n",
        "# ## South Korea\n",
        "# with open('train_data_south_korea.pkl', 'wb') as f:\n",
        "#     pickle.dump(train_data_south_korea, f)\n",
        "\n",
        "# with open('test_data_south_korea.pkl', 'wb') as f:\n",
        "#     pickle.dump(test_data_south_korea, f)"
      ],
      "metadata": {
        "id": "sTchysIYAlH2"
      },
      "execution_count": null,
      "outputs": []
    },
    {
      "cell_type": "code",
      "source": [
        "train_datasets = [train_data_russia, train_data_turkey, train_data_egypt, train_data_brazil,\n",
        "                  train_data_argentina, train_data_colombia, train_data_south_africa, train_data_south_korea]\n",
        "\n",
        "test_datasets = [test_data_russia, test_data_turkey, test_data_egypt, test_data_brazil,\n",
        "                  test_data_argentina, test_data_colombia, test_data_south_africa, test_data_south_korea]\n",
        "\n",
        "countries = ['Russia', 'Turkey', 'Egypt', 'Brazil', 'Argentina', 'Colombia', \n",
        "             'South Africa', 'South Korea']    "
      ],
      "metadata": {
        "id": "5_hdp8F-yoPw"
      },
      "execution_count": null,
      "outputs": []
    },
    {
      "cell_type": "markdown",
      "source": [
        "EDA"
      ],
      "metadata": {
        "id": "ceC98FLuD32g"
      }
    },
    {
      "cell_type": "code",
      "source": [
        "train_data_russia.head()"
      ],
      "metadata": {
        "id": "5-YhxdpND3m-"
      },
      "execution_count": null,
      "outputs": []
    },
    {
      "cell_type": "code",
      "source": [
        "## Daily  "
      ],
      "metadata": {
        "id": "fjsJR8qqD3k9"
      },
      "execution_count": null,
      "outputs": []
    },
    {
      "cell_type": "code",
      "source": [
        "for i, df in enumerate(train_datasets):\n",
        "    # Create a stock market candle chart\n",
        "    fig = go.Figure(data=[go.Candlestick(x=df['Date'], open=df['Open'], high=df['High'], low=df['Low'], close=df['Price'],\n",
        "                                        increasing=dict(line=dict(width=4)),\n",
        "                                        decreasing=dict(line=dict(width=4))),\n",
        "                        go.Scatter(x=df['Date'], y=df['Price'], mode='lines+markers', name='Closing Price', marker=dict(color='blue')),\n",
        "                        go.Scatter(x=df['Date'], y=df['Vol.'], mode='lines', name='Volume')\n",
        "                        ])\n",
        "    # Update the layout to add labels to the axes and make the graph bigger\n",
        "    fig.update_layout(title=f'{countries[i]}\\'s Daily Stock Market Candle Chart for 2020', xaxis_title='Day', yaxis_title='Price', width=1200, height=500)\n",
        "    fig.show()"
      ],
      "metadata": {
        "id": "DGRcBVzHD3fr"
      },
      "execution_count": null,
      "outputs": []
    },
    {
      "cell_type": "code",
      "source": [
        "## Weekly"
      ],
      "metadata": {
        "id": "PhY4eSjWD3dp"
      },
      "execution_count": null,
      "outputs": []
    },
    {
      "cell_type": "code",
      "source": [
        "def weekly_monthly_quarterly_data(df, week, month, quarter):\n",
        "\n",
        "    if week == True:\n",
        "      # create an empty dataframe to store the results\n",
        "      result_df = pd.DataFrame(columns=['Week', 'Price', 'Open', 'High', 'Low'])\n",
        "\n",
        "      # get all unique values of the Week column\n",
        "      weeks = np.sort(df['week'].unique())\n",
        "   \n",
        "      # loop through each week\n",
        "      for week in weeks:\n",
        "          # get all rows of the first dataframe where Week is equal to the current week\n",
        "          week_df = df[df['week'] == week]\n",
        "          \n",
        "          open = week_df['Open'].iloc[0]\n",
        "          close = week_df['Price'].iloc[-1]\n",
        "          high = week_df['High'].max()\n",
        "          low = week_df['Low'].min()\n",
        "          vol = week_df['Vol.'].sum()\n",
        "          \n",
        "          # create a new dataframe with one row of data\n",
        "          new_row = pd.DataFrame([[week, close, open, high, low, vol]], columns=['Week', 'Price', 'Open', 'High', 'Low', 'Vol.'])\n",
        "          result_df = result_df.append(new_row)\n",
        "\n",
        "    ## monthly data\n",
        "    elif month == True:\n",
        "      result_df = pd.DataFrame(columns=['Month', 'Price', 'Open', 'High', 'Low'])\n",
        "      months = np.sort(df['month'].unique())\n",
        "\n",
        "      # loop through each month\n",
        "      for month in months:\n",
        "          # get all rows of the first dataframe where Month is equal to the current month\n",
        "          month_df = df[df['month'] == month]\n",
        "          \n",
        "          open = month_df['Open'].iloc[0]\n",
        "          close = month_df['Price'].iloc[-1]\n",
        "          high = month_df['High'].max()\n",
        "          low = month_df['Low'].min()\n",
        "          vol = month_df['Vol.'].sum()\n",
        "          \n",
        "          # create a new dataframe with one row of data\n",
        "          new_row = pd.DataFrame([[month, close, open, high, low, vol]], columns=['Month', 'Price', 'Open', 'High', 'Low', 'Vol.'])\n",
        "          result_df = result_df.append(new_row)\n",
        "    \n",
        "    ## quarterly data\n",
        "    elif quarter == True:\n",
        "      result_df = pd.DataFrame(columns=['Quarter', 'Price', 'Open', 'High', 'Low'])\n",
        "      quarters = np.sort(df['quarter'].unique())\n",
        "\n",
        "      # loop through each month\n",
        "      for quarter in quarters:\n",
        "          # get all rows of the first dataframe where Month is equal to the current month\n",
        "          quarter_df = df[df['quarter'] == quarter]\n",
        "          \n",
        "          open = quarter_df['Open'].iloc[0]\n",
        "          close = quarter_df['Price'].iloc[-1]\n",
        "          high = quarter_df['High'].max()\n",
        "          low = quarter_df['Low'].min()\n",
        "          vol = quarter_df['Vol.'].sum()\n",
        "          \n",
        "          # create a new dataframe with one row of data\n",
        "          new_row = pd.DataFrame([[quarter, close, open, high, low, vol]], columns=['Quarter', 'Price', 'Open', 'High', 'Low', 'Vol.'])\n",
        "          result_df = result_df.append(new_row)\n",
        "\n",
        "    # reset the index of the result dataframe\n",
        "    result_df.reset_index(inplace=True, drop=True)\n",
        "\n",
        "    return result_df"
      ],
      "metadata": {
        "id": "lj_R6oAZjK5j"
      },
      "execution_count": null,
      "outputs": []
    },
    {
      "cell_type": "code",
      "source": [
        "train_weekly_russia = weekly_monthly_quarterly_data(train_data_russia, week=True, month=False, quarter=False)\n",
        "train_weekly_turkey = weekly_monthly_quarterly_data(train_data_turkey, week=True, month=False, quarter=False)\n",
        "train_weekly_egypt = weekly_monthly_quarterly_data(train_data_egypt, week=True, month=False, quarter=False)\n",
        "train_weekly_brazil = weekly_monthly_quarterly_data(train_data_brazil, week=True, month=False, quarter=False)\n",
        "train_weekly_argentina = weekly_monthly_quarterly_data(train_data_argentina, week=True, month=False, quarter=False)\n",
        "train_weekly_colombia = weekly_monthly_quarterly_data(train_data_colombia, week=True, month=False, quarter=False)\n",
        "train_weekly_south_africa = weekly_monthly_quarterly_data(train_data_south_africa, week=True, month=False, quarter=False)\n",
        "train_weekly_south_korea = weekly_monthly_quarterly_data(train_data_south_korea, week=True, month=False, quarter=False)"
      ],
      "metadata": {
        "id": "yvWFJ6yLjK26"
      },
      "execution_count": null,
      "outputs": []
    },
    {
      "cell_type": "code",
      "source": [
        "test_weekly_russia = weekly_monthly_quarterly_data(test_data_russia, week=True, month=False, quarter=False)\n",
        "test_weekly_turkey = weekly_monthly_quarterly_data(test_data_turkey, week=True, month=False, quarter=False)\n",
        "test_weekly_egypt = weekly_monthly_quarterly_data(test_data_egypt, week=True, month=False, quarter=False)\n",
        "test_weekly_brazil = weekly_monthly_quarterly_data(test_data_brazil, week=True, month=False, quarter=False)\n",
        "test_weekly_argentina = weekly_monthly_quarterly_data(test_data_argentina, week=True, month=False, quarter=False)\n",
        "test_weekly_colombia = weekly_monthly_quarterly_data(test_data_colombia, week=True, month=False, quarter=False)\n",
        "test_weekly_south_africa = weekly_monthly_quarterly_data(test_data_south_africa, week=True, month=False, quarter=False)\n",
        "test_weekly_south_korea = weekly_monthly_quarterly_data(test_data_south_korea, week=True, month=False, quarter=False)"
      ],
      "metadata": {
        "id": "cXuHt0MRAJX9"
      },
      "execution_count": null,
      "outputs": []
    },
    {
      "cell_type": "code",
      "source": [
        "# ## Russia\n",
        "# with open('train_weekly_russia.pkl', 'wb') as f:\n",
        "#     pickle.dump(train_weekly_russia, f)\n",
        "\n",
        "# with open('test_weekly_russia.pkl', 'wb') as f:\n",
        "#     pickle.dump(test_weekly_russia, f)\n",
        "\n",
        "# ## Turkey\n",
        "# with open('train_weekly_turkey.pkl', 'wb') as f:\n",
        "#     pickle.dump(train_weekly_turkey, f)\n",
        "\n",
        "# with open('test_weekly_turkey.pkl', 'wb') as f:\n",
        "#     pickle.dump(test_weekly_turkey, f)\n",
        "\n",
        "# ## Egypt\n",
        "# with open('train_weekly_egypt.pkl', 'wb') as f:\n",
        "#     pickle.dump(train_weekly_egypt, f)\n",
        "\n",
        "# with open('test_weekly_egypt.pkl', 'wb') as f:\n",
        "#     pickle.dump(test_weekly_egypt, f)\n",
        "\n",
        "# ## Brazil\n",
        "# with open('train_weekly_brazil.pkl', 'wb') as f:\n",
        "#     pickle.dump(train_weekly_brazil, f)\n",
        "\n",
        "# with open('test_weekly_brazil.pkl', 'wb') as f:\n",
        "#     pickle.dump(test_weekly_brazil, f)\n",
        "\n",
        "# ## Argentina\n",
        "# with open('train_weekly_argentina.pkl', 'wb') as f:\n",
        "#     pickle.dump(train_weekly_argentina, f)\n",
        "\n",
        "# with open('test_weekly_argentina.pkl', 'wb') as f:\n",
        "#     pickle.dump(test_weekly_argentina, f)\n",
        "\n",
        "# ## Colombia\n",
        "# with open('train_weekly_colombia.pkl', 'wb') as f:\n",
        "#     pickle.dump(train_weekly_colombia, f)\n",
        "\n",
        "# with open('test_weekly_colombia.pkl', 'wb') as f:\n",
        "#     pickle.dump(test_weekly_colombia, f)\n",
        "\n",
        "# ## South Africa\n",
        "# with open('train_weekly_south_africa.pkl', 'wb') as f:\n",
        "#     pickle.dump(train_weekly_south_africa, f)\n",
        "\n",
        "# with open('test_weekly_south_africa.pkl', 'wb') as f:\n",
        "#     pickle.dump(test_weekly_south_africa, f)\n",
        "\n",
        "# ## South Korea\n",
        "# with open('train_weekly_south_korea.pkl', 'wb') as f:\n",
        "#     pickle.dump(train_weekly_south_korea, f)\n",
        "\n",
        "# with open('test_weekly_south_korea.pkl', 'wb') as f:\n",
        "#     pickle.dump(test_weekly_south_korea, f)"
      ],
      "metadata": {
        "id": "MbwKAv8MBpuW"
      },
      "execution_count": null,
      "outputs": []
    },
    {
      "cell_type": "code",
      "source": [
        "train_weekly_datasets = [train_weekly_russia, train_weekly_turkey, train_weekly_egypt,\n",
        "                         train_weekly_brazil, train_weekly_argentina, train_weekly_colombia,\n",
        "                         train_weekly_south_africa, train_weekly_south_korea]"
      ],
      "metadata": {
        "id": "DxzIcU-r0Tkm"
      },
      "execution_count": null,
      "outputs": []
    },
    {
      "cell_type": "code",
      "source": [
        "for i, df in enumerate(train_weekly_datasets):\n",
        "    # Create a stock market candle chart\n",
        "    fig = go.Figure(data=[go.Candlestick(x=df['Week'], open=df['Open'], high=df['High'], low=df['Low'], close=df['Price'],\n",
        "                                        increasing=dict(line=dict(width=4)),\n",
        "                                        decreasing=dict(line=dict(width=4))),\n",
        "                        go.Scatter(x=df['Week'], y=df['Price'], mode='lines+markers', name='Closing Price', marker=dict(color='blue')),\n",
        "                        go.Scatter(x=df['Week'], y=df['Vol.'], mode='lines', name='Volume')\n",
        "                        ])\n",
        "    # Update the layout to add labels to the axes and make the graph bigger\n",
        "    fig.update_layout(title=f'{countries[i]}\\'s Weekly Stock Market Candle Chart for 2020', xaxis_title='Week', yaxis_title='Price', width=1200, height=500)\n",
        "    fig.show()"
      ],
      "metadata": {
        "id": "D2KMmdiHoPNt"
      },
      "execution_count": null,
      "outputs": []
    },
    {
      "cell_type": "code",
      "source": [],
      "metadata": {
        "id": "TRtw0rHrjKss"
      },
      "execution_count": null,
      "outputs": []
    },
    {
      "cell_type": "code",
      "source": [
        "## Monthly"
      ],
      "metadata": {
        "id": "q0HB7XftESE1"
      },
      "execution_count": null,
      "outputs": []
    },
    {
      "cell_type": "code",
      "source": [
        "train_monthly_russia = weekly_monthly_quarterly_data(train_data_russia, week=False, month=True, quarter=False) \n",
        "train_monthly_turkey = weekly_monthly_quarterly_data(train_data_turkey, week=False, month=True, quarter=False) \n",
        "train_monthly_egypt = weekly_monthly_quarterly_data(train_data_egypt, week=False, month=True, quarter=False)\n",
        "train_monthly_brazil = weekly_monthly_quarterly_data(train_data_brazil, week=False, month=True, quarter=False)\n",
        "train_monthly_argentina = weekly_monthly_quarterly_data(train_data_argentina, week=False, month=True, quarter=False)\n",
        "train_monthly_colombia = weekly_monthly_quarterly_data(train_data_colombia, week=False, month=True, quarter=False)\n",
        "train_monthly_south_africa = weekly_monthly_quarterly_data(train_data_south_africa, week=False, month=True, quarter=False)\n",
        "train_monthly_south_korea = weekly_monthly_quarterly_data(train_data_south_korea, week=False, month=True, quarter=False)"
      ],
      "metadata": {
        "id": "VVI-_GiE1Ts9"
      },
      "execution_count": null,
      "outputs": []
    },
    {
      "cell_type": "code",
      "source": [
        "test_monthly_russia = weekly_monthly_quarterly_data(test_data_russia, week=False, month=True, quarter=False) \n",
        "test_monthly_turkey = weekly_monthly_quarterly_data(test_data_turkey, week=False, month=True, quarter=False) \n",
        "test_monthly_egypt = weekly_monthly_quarterly_data(test_data_egypt, week=False, month=True, quarter=False)\n",
        "test_monthly_brazil = weekly_monthly_quarterly_data(test_data_brazil, week=False, month=True, quarter=False)\n",
        "test_monthly_argentina = weekly_monthly_quarterly_data(test_data_argentina, week=False, month=True, quarter=False)\n",
        "test_monthly_colombia = weekly_monthly_quarterly_data(test_data_colombia, week=False, month=True, quarter=False)\n",
        "test_monthly_south_africa = weekly_monthly_quarterly_data(test_data_south_africa, week=False, month=True, quarter=False)\n",
        "test_monthly_south_korea = weekly_monthly_quarterly_data(test_data_south_korea, week=False, month=True, quarter=False)"
      ],
      "metadata": {
        "id": "uM6UmAiHAVev"
      },
      "execution_count": null,
      "outputs": []
    },
    {
      "cell_type": "code",
      "source": [
        "# ## Russia\n",
        "# with open('train_monthly_russia.pkl', 'wb') as f:\n",
        "#     pickle.dump(train_monthly_russia, f)\n",
        "\n",
        "# with open('test_monthly_russia.pkl', 'wb') as f:\n",
        "#     pickle.dump(test_monthly_russia, f)\n",
        "\n",
        "# ## Turkey\n",
        "# with open('train_monthly_turkey.pkl', 'wb') as f:\n",
        "#     pickle.dump(train_monthly_turkey, f)\n",
        "\n",
        "# with open('test_monthly_turkey.pkl', 'wb') as f:\n",
        "#     pickle.dump(test_monthly_turkey, f)\n",
        "\n",
        "# ## Egypt\n",
        "# with open('train_monthly_egypt.pkl', 'wb') as f:\n",
        "#     pickle.dump(train_monthly_egypt, f)\n",
        "\n",
        "# with open('test_monthly_egypt.pkl', 'wb') as f:\n",
        "#     pickle.dump(test_monthly_egypt, f)\n",
        "\n",
        "# ## Brazil\n",
        "# with open('train_monthly_brazil.pkl', 'wb') as f:\n",
        "#     pickle.dump(train_monthly_brazil, f)\n",
        "\n",
        "# with open('test_monthly_brazil.pkl', 'wb') as f:\n",
        "#     pickle.dump(test_monthly_brazil, f)\n",
        "\n",
        "# ## Argentina\n",
        "# with open('train_monthly_argentina.pkl', 'wb') as f:\n",
        "#     pickle.dump(train_monthly_argentina, f)\n",
        "\n",
        "# with open('test_monthly_argentina.pkl', 'wb') as f:\n",
        "#     pickle.dump(test_monthly_argentina, f)\n",
        "\n",
        "# ## Colombia\n",
        "# with open('train_monthly_colombia.pkl', 'wb') as f:\n",
        "#     pickle.dump(train_monthly_colombia, f)\n",
        "\n",
        "# with open('test_monthly_colombia.pkl', 'wb') as f:\n",
        "#     pickle.dump(test_monthly_colombia, f)\n",
        "\n",
        "# ## South Africa\n",
        "# with open('train_monthly_south_africa.pkl', 'wb') as f:\n",
        "#     pickle.dump(train_monthly_south_africa, f)\n",
        "\n",
        "# with open('test_monthly_south_africa.pkl', 'wb') as f:\n",
        "#     pickle.dump(test_monthly_south_africa, f)\n",
        "\n",
        "# ## South Korea\n",
        "# with open('train_monthly_south_korea.pkl', 'wb') as f:\n",
        "#     pickle.dump(train_monthly_south_korea, f)\n",
        "\n",
        "# with open('test_monthly_south_korea.pkl', 'wb') as f:\n",
        "#     pickle.dump(test_monthly_south_korea, f)"
      ],
      "metadata": {
        "id": "3tOii7yuB72Z"
      },
      "execution_count": null,
      "outputs": []
    },
    {
      "cell_type": "code",
      "source": [
        "train_monthly_datasets = [train_monthly_russia, train_monthly_turkey, train_monthly_egypt,\n",
        "                          train_monthly_brazil, train_monthly_argentina, train_monthly_colombia,\n",
        "                          train_monthly_south_africa, train_monthly_south_korea]"
      ],
      "metadata": {
        "id": "KZNGjri61TkE"
      },
      "execution_count": null,
      "outputs": []
    },
    {
      "cell_type": "code",
      "source": [
        "for i, df in enumerate(train_monthly_datasets):\n",
        "    # Create a stock market candle chart\n",
        "    fig = go.Figure(data=[go.Candlestick(x=df['Month'], open=df['Open'], high=df['High'], low=df['Low'], close=df['Price'],\n",
        "                                        increasing=dict(line=dict(width=4)),\n",
        "                                        decreasing=dict(line=dict(width=4))),\n",
        "                        go.Scatter(x=df['Month'], y=df['Price'], mode='lines+markers', name='Closing Price', marker=dict(color='blue')),\n",
        "                        go.Scatter(x=df['Month'], y=df['Vol.'], mode='lines', name='Volume')\n",
        "                        ])\n",
        "    # Update the layout to add labels to the axes and make the graph bigger\n",
        "    fig.update_layout(title=f'{countries[i]}\\'s Monthly Stock Market Candle Chart for 2020', xaxis_title='Month', yaxis_title='Price', width=1200, height=500)\n",
        "    fig.show()"
      ],
      "metadata": {
        "id": "8x9MzNrkESCZ"
      },
      "execution_count": null,
      "outputs": []
    },
    {
      "cell_type": "code",
      "source": [],
      "metadata": {
        "id": "gOfv9zR2i4Mu"
      },
      "execution_count": null,
      "outputs": []
    },
    {
      "cell_type": "code",
      "source": [
        "## Quarters"
      ],
      "metadata": {
        "id": "Z9iZiigIi4Iz"
      },
      "execution_count": null,
      "outputs": []
    },
    {
      "cell_type": "code",
      "source": [
        "train_quarterly_russia = weekly_monthly_quarterly_data(train_data_russia, week=False, month=False, quarter=True) \n",
        "train_quarterly_turkey = weekly_monthly_quarterly_data(train_data_turkey, week=False, month=False, quarter=True) \n",
        "train_quarterly_egypt = weekly_monthly_quarterly_data(train_data_egypt, week=False, month=False, quarter=True)\n",
        "train_quarterly_brazil = weekly_monthly_quarterly_data(train_data_brazil, week=False, month=False, quarter=True)\n",
        "train_quarterly_argentina = weekly_monthly_quarterly_data(train_data_argentina, week=False, month=False, quarter=True)\n",
        "train_quarterly_colombia = weekly_monthly_quarterly_data(train_data_colombia, week=False, month=False, quarter=True)\n",
        "train_quarterly_south_africa = weekly_monthly_quarterly_data(train_data_south_africa, week=False, month=False, quarter=True)\n",
        "train_quarterly_south_korea = weekly_monthly_quarterly_data(train_data_south_korea, week=False, month=False, quarter=True)"
      ],
      "metadata": {
        "id": "PH9fkX7Di4GL"
      },
      "execution_count": null,
      "outputs": []
    },
    {
      "cell_type": "code",
      "source": [
        "test_quarterly_russia = weekly_monthly_quarterly_data(test_data_russia, week=False, month=False, quarter=True) \n",
        "test_quarterly_turkey = weekly_monthly_quarterly_data(test_data_turkey, week=False, month=False, quarter=True) \n",
        "test_quarterly_egypt = weekly_monthly_quarterly_data(test_data_egypt, week=False, month=False, quarter=True)\n",
        "test_quarterly_brazil = weekly_monthly_quarterly_data(test_data_brazil, week=False, month=False, quarter=True)\n",
        "test_quarterly_argentina = weekly_monthly_quarterly_data(test_data_argentina, week=False, month=False, quarter=True)\n",
        "test_quarterly_colombia = weekly_monthly_quarterly_data(test_data_colombia, week=False, month=False, quarter=True)\n",
        "test_quarterly_south_africa = weekly_monthly_quarterly_data(test_data_south_africa, week=False, month=False, quarter=True)\n",
        "test_quarterly_south_korea = weekly_monthly_quarterly_data(test_data_south_korea, week=False, month=False, quarter=True)"
      ],
      "metadata": {
        "id": "u-U3O2smAc_Y"
      },
      "execution_count": null,
      "outputs": []
    },
    {
      "cell_type": "code",
      "source": [
        "# ## Russia\n",
        "# with open('train_quarterly_russia.pkl', 'wb') as f:\n",
        "#     pickle.dump(train_quarterly_russia, f)\n",
        "\n",
        "# with open('test_quarterly_russia.pkl', 'wb') as f:\n",
        "#     pickle.dump(test_quarterly_russia, f)\n",
        "\n",
        "# ## Turkey\n",
        "# with open('train_quarterly_turkey.pkl', 'wb') as f:\n",
        "#     pickle.dump(train_quarterly_turkey, f)\n",
        "\n",
        "# with open('test_quarterly_turkey.pkl', 'wb') as f:\n",
        "#     pickle.dump(test_quarterly_turkey, f)\n",
        "\n",
        "# ## Egypt\n",
        "# with open('train_quarterly_egypt.pkl', 'wb') as f:\n",
        "#     pickle.dump(train_quarterly_egypt, f)\n",
        "\n",
        "# with open('test_quarterly_egypt.pkl', 'wb') as f:\n",
        "#     pickle.dump(test_quarterly_egypt, f)\n",
        "\n",
        "# ## Brazil\n",
        "# with open('train_quarterly_brazil.pkl', 'wb') as f:\n",
        "#     pickle.dump(train_quarterly_brazil, f)\n",
        "\n",
        "# with open('test_quarterly_brazil.pkl', 'wb') as f:\n",
        "#     pickle.dump(test_quarterly_brazil, f)\n",
        "\n",
        "# ## Argentina\n",
        "# with open('train_quarterly_argentina.pkl', 'wb') as f:\n",
        "#     pickle.dump(train_quarterly_argentina, f)\n",
        "\n",
        "# with open('test_quarterly_argentina.pkl', 'wb') as f:\n",
        "#     pickle.dump(test_quarterly_argentina, f)\n",
        "\n",
        "# ## Colombia\n",
        "# with open('train_quarterly_colombia.pkl', 'wb') as f:\n",
        "#     pickle.dump(train_quarterly_colombia, f)\n",
        "\n",
        "# with open('test_quarterly_colombia.pkl', 'wb') as f:\n",
        "#     pickle.dump(test_quarterly_colombia, f)\n",
        "\n",
        "# ## South Africa\n",
        "# with open('train_quarterly_south_africa.pkl', 'wb') as f:\n",
        "#     pickle.dump(train_quarterly_south_africa, f)\n",
        "\n",
        "# with open('test_quarterly_south_africa.pkl', 'wb') as f:\n",
        "#     pickle.dump(test_quarterly_south_africa, f)\n",
        "\n",
        "# ## South Korea\n",
        "# with open('train_quarterly_south_korea.pkl', 'wb') as f:\n",
        "#     pickle.dump(train_quarterly_south_korea, f)\n",
        "\n",
        "# with open('test_quarterly_south_korea.pkl', 'wb') as f:\n",
        "#     pickle.dump(test_quarterly_south_korea, f)"
      ],
      "metadata": {
        "id": "ng3ReDlaCJhX"
      },
      "execution_count": null,
      "outputs": []
    },
    {
      "cell_type": "code",
      "source": [
        "train_quarterly_datasets = [train_quarterly_russia, train_quarterly_turkey, train_quarterly_egypt,\n",
        "                          train_quarterly_brazil, train_quarterly_argentina, train_quarterly_colombia,\n",
        "                          train_quarterly_south_africa, train_quarterly_south_korea]"
      ],
      "metadata": {
        "id": "KuH9Etlwi4EI"
      },
      "execution_count": null,
      "outputs": []
    },
    {
      "cell_type": "code",
      "source": [
        "for i, df in enumerate(train_quarterly_datasets):\n",
        "    # Create a stock market candle chart\n",
        "    fig = go.Figure(data=[go.Candlestick(x=df['Quarter'], open=df['Open'], high=df['High'], low=df['Low'], close=df['Price'],\n",
        "                                        increasing=dict(line=dict(width=4)),\n",
        "                                        decreasing=dict(line=dict(width=4))),\n",
        "                        go.Scatter(x=df['Quarter'], y=df['Price'], mode='lines+markers', name='Closing Price', marker=dict(color='blue')),\n",
        "                        go.Scatter(x=df['Quarter'], y=df['Vol.'], mode='lines', name='Volume')\n",
        "                        ])\n",
        "    # Update the layout to add labels to the axes and make the graph bigger\n",
        "    fig.update_layout(title=f'{countries[i]}\\'s Quarterly Stock Market Candle Chart for 2020', xaxis_title='Quarter', yaxis_title='Price', width=1200, height=500)\n",
        "    fig.show()"
      ],
      "metadata": {
        "id": "O9Q3YNA2i4Bu"
      },
      "execution_count": null,
      "outputs": []
    },
    {
      "cell_type": "code",
      "source": [],
      "metadata": {
        "id": "WUVsfayt7oP6"
      },
      "execution_count": null,
      "outputs": []
    }
  ]
}